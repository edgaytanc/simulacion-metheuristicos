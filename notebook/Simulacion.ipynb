{
  "nbformat": 4,
  "nbformat_minor": 0,
  "metadata": {
    "colab": {
      "provenance": []
    },
    "kernelspec": {
      "name": "python3",
      "display_name": "Python 3"
    },
    "language_info": {
      "name": "python"
    }
  },
  "cells": [
    {
      "cell_type": "markdown",
      "source": [
        "**Generacion de datos iniciales**"
      ],
      "metadata": {
        "id": "Y0uSkFbDx6xi"
      }
    },
    {
      "cell_type": "code",
      "source": [
        "# instalaciones necesarias\n",
        "!pip install deap"
      ],
      "metadata": {
        "colab": {
          "base_uri": "https://localhost:8080/"
        },
        "id": "mxwPdLuOpg16",
        "outputId": "6bdb48f4-6216-47e1-b7c3-d2284335a135"
      },
      "execution_count": 305,
      "outputs": [
        {
          "output_type": "stream",
          "name": "stdout",
          "text": [
            "Requirement already satisfied: deap in /usr/local/lib/python3.10/dist-packages (1.4.1)\n",
            "Requirement already satisfied: numpy in /usr/local/lib/python3.10/dist-packages (from deap) (1.26.4)\n"
          ]
        }
      ]
    },
    {
      "cell_type": "code",
      "execution_count": 306,
      "metadata": {
        "id": "cTCoQBBH6jkP"
      },
      "outputs": [],
      "source": [
        "import random\n",
        "import math\n",
        "import pandas as pd\n",
        "import matplotlib.pyplot as plt\n",
        "from deap import base, creator, tools, algorithms\n",
        "import numpy as np"
      ]
    },
    {
      "cell_type": "code",
      "source": [
        "# Parámetros del problema\n",
        "num_parcelas = 10  # Número de parcelas\n",
        "rango_caña = (100, 1200)  # Rango de cantidad de caña en kilogramos\n",
        "rango_tiempo = (1.0, 10.0)  # Rango de tiempo en horas para la cosecha\n",
        "rango_capacidad_vehiculos = (1000, 2500)  # Rango de capacidad de carga de los vehículos\n",
        "num_vehiculos = 3  # Número de vehículos\n",
        "num_trabajadores = 5  # Número de trabajadores\n",
        "horas_semanales_trabajo = 40  # Horas de trabajo semanal por trabajador"
      ],
      "metadata": {
        "id": "GxJvClKX6n85"
      },
      "execution_count": 307,
      "outputs": []
    },
    {
      "cell_type": "code",
      "source": [
        "# Generar los datos de las parcelas\n",
        "parcelas = []\n",
        "for i in range(1, num_parcelas + 1):\n",
        "    caña = random.randint(*rango_caña)\n",
        "    tiempo = round(random.uniform(*rango_tiempo), 2)\n",
        "    parcelas.append({'Parcela': i, 'Caña (kg)': caña, 'Tiempo (horas)': tiempo})"
      ],
      "metadata": {
        "id": "y4-iRfl16tnO"
      },
      "execution_count": 308,
      "outputs": []
    },
    {
      "cell_type": "code",
      "source": [
        "# Generar la capacidad de los vehículos\n",
        "vehiculos = [random.randint(*rango_capacidad_vehiculos) for _ in range(num_vehiculos)]"
      ],
      "metadata": {
        "id": "U9I4AfLH6x59"
      },
      "execution_count": 309,
      "outputs": []
    },
    {
      "cell_type": "code",
      "source": [
        "# Calcular la capacidad total de trabajo (en horas) de los trabajadores\n",
        "capacidad_total_trabajo = num_trabajadores * horas_semanales_trabajo"
      ],
      "metadata": {
        "id": "5ukdnLj361Pj"
      },
      "execution_count": 310,
      "outputs": []
    },
    {
      "cell_type": "code",
      "source": [
        "# Crear un DataFrame con los datos de las parcelas\n",
        "df_parcelas = pd.DataFrame(parcelas)"
      ],
      "metadata": {
        "id": "1-LDc255ldmz"
      },
      "execution_count": 311,
      "outputs": []
    },
    {
      "cell_type": "code",
      "source": [
        "# Mostrar los datos generados al usuario\n",
        "print(df_parcelas)"
      ],
      "metadata": {
        "colab": {
          "base_uri": "https://localhost:8080/"
        },
        "id": "wNvcqoRYlhhP",
        "outputId": "4486c875-40c3-4f94-fa06-e55048e66fd8"
      },
      "execution_count": 312,
      "outputs": [
        {
          "output_type": "stream",
          "name": "stdout",
          "text": [
            "   Parcela  Caña (kg)  Tiempo (horas)\n",
            "0        1       1050            4.49\n",
            "1        2        869            3.12\n",
            "2        3        335            6.64\n",
            "3        4        831            5.63\n",
            "4        5        372            7.71\n",
            "5        6        319            3.82\n",
            "6        7        969            2.51\n",
            "7        8        329            3.83\n",
            "8        9       1110            3.58\n",
            "9       10       1106            7.90\n"
          ]
        }
      ]
    },
    {
      "cell_type": "code",
      "source": [
        "# Crear un resumen de los vehículos y capacidad de trabajo\n",
        "resumen_vehiculos = {\n",
        "    'Número de vehículos': num_vehiculos,\n",
        "    'Capacidad de cada vehículo (kg)': vehiculos,\n",
        "    'Número de trabajadores': num_trabajadores,\n",
        "    'Capacidad total de trabajo (horas)': capacidad_total_trabajo\n",
        "}\n",
        "\n",
        "resumen_vehiculos"
      ],
      "metadata": {
        "colab": {
          "base_uri": "https://localhost:8080/"
        },
        "id": "U9JhjwMZlnA0",
        "outputId": "cb533acf-0992-4c9f-9db9-12fc4bf3846c"
      },
      "execution_count": 313,
      "outputs": [
        {
          "output_type": "execute_result",
          "data": {
            "text/plain": [
              "{'Número de vehículos': 3,\n",
              " 'Capacidad de cada vehículo (kg)': [1719, 1366, 2186],\n",
              " 'Número de trabajadores': 5,\n",
              " 'Capacidad total de trabajo (horas)': 200}"
            ]
          },
          "metadata": {},
          "execution_count": 313
        }
      ]
    },
    {
      "cell_type": "markdown",
      "source": [
        "**Modelado del problema**"
      ],
      "metadata": {
        "id": "ai_VULT3yRS-"
      }
    },
    {
      "cell_type": "code",
      "source": [
        "from scipy.optimize import linprog"
      ],
      "metadata": {
        "id": "ana5M8tFyVH2"
      },
      "execution_count": 314,
      "outputs": []
    },
    {
      "cell_type": "code",
      "source": [
        "# Parámetros del problema (usaremos los datos generados previamente)\n",
        "cantidades_caña = df_parcelas['Caña (kg)'].values\n",
        "tiempos_cosecha = df_parcelas['Tiempo (horas)'].values"
      ],
      "metadata": {
        "id": "4CXbIwGPybTs"
      },
      "execution_count": 315,
      "outputs": []
    },
    {
      "cell_type": "code",
      "source": [
        "# Variables del problema\n",
        "num_parcelas = len(cantidades_caña)  # Número de parcelas\n",
        "capacidad_total_trabajo = 200  # Capacidad total de trabajo (horas)\n",
        "capacidad_vehiculo = min(vehiculos)  # Tomamos el vehículo con menor capacidad para la restricción más estricta"
      ],
      "metadata": {
        "id": "JQf0Et7xyei-"
      },
      "execution_count": 316,
      "outputs": []
    },
    {
      "cell_type": "code",
      "source": [
        "# Función objetivo (negativo porque linprog minimiza, y queremos maximizar)\n",
        "c = -cantidades_caña  # Queremos maximizar la cantidad de caña recolectada"
      ],
      "metadata": {
        "id": "o1C_g0vYyjeC"
      },
      "execution_count": 317,
      "outputs": []
    },
    {
      "cell_type": "code",
      "source": [
        "# Restricciones:\n",
        "# 1. Restricción de tiempo de trabajo\n",
        "A_ub = [tiempos_cosecha]\n",
        "b_ub = [capacidad_total_trabajo]\n",
        "\n",
        "# 2. Restricción de capacidad de los vehículos\n",
        "A_ub.append(cantidades_caña)\n",
        "b_ub.append(capacidad_vehiculo)"
      ],
      "metadata": {
        "id": "dgJCnj5VypeC"
      },
      "execution_count": 318,
      "outputs": []
    },
    {
      "cell_type": "code",
      "source": [
        "# Definir las restricciones en forma de matriz\n",
        "A_ub = [tiempos_cosecha, cantidades_caña]  # Una lista con las dos restricciones\n",
        "b_ub = [capacidad_total_trabajo, capacidad_vehiculo]  # Limites de tiempo y capacidad"
      ],
      "metadata": {
        "id": "uwmeuf7QysYc"
      },
      "execution_count": 319,
      "outputs": []
    },
    {
      "cell_type": "code",
      "source": [
        "# Definir los límites para las variables de decisión (0 o 1)\n",
        "x_bounds = [(0, 1) for _ in range(num_parcelas)]"
      ],
      "metadata": {
        "id": "FO5K6EFtyuZ5"
      },
      "execution_count": 320,
      "outputs": []
    },
    {
      "cell_type": "code",
      "source": [
        "# Resolver el problema de optimización\n",
        "result = linprog(c, A_ub=A_ub, b_ub=b_ub, bounds=x_bounds, method='highs')"
      ],
      "metadata": {
        "id": "3qd8xpZ0yw-b"
      },
      "execution_count": 321,
      "outputs": []
    },
    {
      "cell_type": "code",
      "source": [
        "# Mostrar los resultados\n",
        "if result.success:\n",
        "    print(\"Resultado óptimo encontrado:\")\n",
        "    print(\"Parcelas cosechadas:\", result.x)\n",
        "    print(\"Cantidad total de caña recolectada:\", -result.fun)\n",
        "else:\n",
        "    print(\"No se pudo encontrar una solución óptima.\")"
      ],
      "metadata": {
        "colab": {
          "base_uri": "https://localhost:8080/"
        },
        "id": "E6vv5xt3yzm0",
        "outputId": "5be5c145-31df-4d70-9f35-41e6c3e0c81a"
      },
      "execution_count": 322,
      "outputs": [
        {
          "output_type": "stream",
          "name": "stdout",
          "text": [
            "Resultado óptimo encontrado:\n",
            "Parcelas cosechadas: [0.         0.         0.         0.         0.         0.\n",
            " 0.         0.         0.23423423 1.        ]\n",
            "Cantidad total de caña recolectada: 1366.0\n"
          ]
        }
      ]
    },
    {
      "cell_type": "markdown",
      "source": [
        "**Algoritmo Genético (GA)**\n",
        "\n",
        "El Algoritmo Genético (GA) está inspirado en la evolución biológica. Utiliza una población de soluciones potenciales (individuos) y las mejora a través de iteraciones aplicando operadores como selección, cruce (crossover) y mutación."
      ],
      "metadata": {
        "id": "H1vb8Ta1p216"
      }
    },
    {
      "cell_type": "code",
      "source": [
        "# la inicializacion se hizo arriba en modelado del problema\n",
        "\n",
        "# Crear el problema de optimizacion DEAP\n",
        "creator.create(\"FitnessMax\", base.Fitness, weights=(1.0,)) # Queremos maximizar la cantidad de caña\n",
        "creator.create(\"Individual\", list, fitness=creator.FitnessMax)"
      ],
      "metadata": {
        "id": "BQfzXqgjqCeh",
        "colab": {
          "base_uri": "https://localhost:8080/"
        },
        "outputId": "397922ce-a7b8-4831-aebd-3049bae3a8d0"
      },
      "execution_count": 323,
      "outputs": [
        {
          "output_type": "stream",
          "name": "stderr",
          "text": [
            "/usr/local/lib/python3.10/dist-packages/deap/creator.py:185: RuntimeWarning: A class named 'FitnessMax' has already been created and it will be overwritten. Consider deleting previous creation of that class or rename it.\n",
            "  warnings.warn(\"A class named '{0}' has already been created and it \"\n",
            "/usr/local/lib/python3.10/dist-packages/deap/creator.py:185: RuntimeWarning: A class named 'Individual' has already been created and it will be overwritten. Consider deleting previous creation of that class or rename it.\n",
            "  warnings.warn(\"A class named '{0}' has already been created and it \"\n"
          ]
        }
      ]
    },
    {
      "cell_type": "code",
      "source": [
        "# Funcion de creacion de invididuos (soluciones)\n",
        "def crear_individuo():\n",
        "  return creator.Individual([random.randint(0,1)for _ in range(num_parcelas)])"
      ],
      "metadata": {
        "id": "K8eTWA-2rCcr"
      },
      "execution_count": 324,
      "outputs": []
    },
    {
      "cell_type": "code",
      "source": [
        "# Función de aptitud (fitness) con penalización gradual\n",
        "def evaluar_individuo(individuo):\n",
        "    cantidad_caña_total = sum(individuo[i] * cantidades_caña[i] for i in range(num_parcelas))\n",
        "    tiempo_total = sum(individuo[i] * tiempos_cosecha[i] for i in range(num_parcelas))\n",
        "\n",
        "    penalizacion = 0  # Inicializamos la penalización en 0\n",
        "\n",
        "    # Penalización por exceder el tiempo disponible\n",
        "    if tiempo_total > capacidad_total_trabajo:\n",
        "        penalizacion += (tiempo_total - capacidad_total_trabajo) * 100  # Penalización proporcional al exceso de tiempo\n",
        "\n",
        "    # Penalización por exceder la capacidad del vehículo\n",
        "    if cantidad_caña_total > capacidad_vehiculo:\n",
        "        penalizacion += (cantidad_caña_total - capacidad_vehiculo) * 100  # Penalización proporcional al exceso de capacidad\n",
        "\n",
        "    # La aptitud será la cantidad de caña recolectada menos la penalización\n",
        "    return max(0, cantidad_caña_total - penalizacion),  # Asegurarse de que la aptitud no sea negativa\n"
      ],
      "metadata": {
        "id": "WGCTWybyrdDm"
      },
      "execution_count": 325,
      "outputs": []
    },
    {
      "cell_type": "code",
      "source": [
        "# Configuracion de los operadores geneticos\n",
        "toolbox = base.Toolbox()\n",
        "toolbox.register(\"individual\", crear_individuo)\n",
        "toolbox.register(\"population\", tools.initRepeat, list, toolbox.individual)\n",
        "toolbox.register(\"evaluate\", evaluar_individuo)\n",
        "toolbox.register(\"mate\",tools.cxTwoPoint)\n",
        "toolbox.register(\"mutate\", tools.mutFlipBit, indpb=0.05)\n",
        "toolbox.register(\"select\", tools.selTournament, tournsize=3)"
      ],
      "metadata": {
        "id": "GBplnIvytqiQ"
      },
      "execution_count": 326,
      "outputs": []
    },
    {
      "cell_type": "code",
      "source": [
        "# Parametros del Algoritmo Genetico\n",
        "population_size = 100\n",
        "num_generaciones = 50\n",
        "probabilidad_cruce = 0.8\n",
        "probabilidad_mutacion = 0.3"
      ],
      "metadata": {
        "id": "7Rlw5YJGvRJs"
      },
      "execution_count": 327,
      "outputs": []
    },
    {
      "cell_type": "code",
      "source": [
        "# seguimiento de estadisticas durante la ejecucion\n",
        "stats = tools.Statistics(lambda ind: ind.fitness.values[0])  # Asegúrate de capturar el primer valor de fitness\n",
        "stats.register(\"min\", np.min)  # Registrar aptitud mínima\n",
        "stats.register(\"avg\", np.mean)  # Registrar aptitud promedio"
      ],
      "metadata": {
        "id": "FiMU2k3pUepJ"
      },
      "execution_count": 328,
      "outputs": []
    },
    {
      "cell_type": "code",
      "source": [
        "# Registro para obtener valores durante la ejecución\n",
        "hall_of_fame = tools.HallOfFame(1)  # Para rastrear al mejor individuo"
      ],
      "metadata": {
        "id": "HEsk4I8bYfsU"
      },
      "execution_count": 329,
      "outputs": []
    },
    {
      "cell_type": "code",
      "source": [
        "# Inicializar la poblacion\n",
        "poblacion = toolbox.population(n=population_size)"
      ],
      "metadata": {
        "id": "hYduNTVYvnWD"
      },
      "execution_count": 330,
      "outputs": []
    },
    {
      "cell_type": "code",
      "source": [
        "# Ejecutar el algoritmo genetico\n",
        "poblacion, log = algorithms.eaSimple(poblacion, toolbox, cxpb=probabilidad_cruce, mutpb=probabilidad_mutacion, ngen=num_generaciones, stats=stats,halloffame=hall_of_fame, verbose=False)"
      ],
      "metadata": {
        "id": "AENprRVNvzs6"
      },
      "execution_count": 331,
      "outputs": []
    },
    {
      "cell_type": "code",
      "source": [
        "# Obtener el mejor individuo de la poblacion\n",
        "mejor_individuo = tools.selBest(poblacion, k=1)[0]\n",
        "mejor_aptitud = evaluar_individuo(mejor_individuo)"
      ],
      "metadata": {
        "id": "cBbzRqxszxpn"
      },
      "execution_count": 332,
      "outputs": []
    },
    {
      "cell_type": "code",
      "source": [
        "# Mostrar Resultados\n",
        "print(\"Mejor individuo\", mejor_individuo)\n",
        "print(\"Cantidad total de caña recolectada:\", mejor_aptitud[0])"
      ],
      "metadata": {
        "colab": {
          "base_uri": "https://localhost:8080/"
        },
        "id": "btaJGk5I0eLX",
        "outputId": "d5ff360d-f5b8-42ec-bf08-aa196820e836"
      },
      "execution_count": 333,
      "outputs": [
        {
          "output_type": "stream",
          "name": "stdout",
          "text": [
            "Mejor individuo [0, 0, 1, 0, 1, 1, 0, 1, 0, 0]\n",
            "Cantidad total de caña recolectada: 1355\n"
          ]
        }
      ]
    },
    {
      "cell_type": "code",
      "source": [
        "# Extraer los datos para graficar\n",
        "generaciones = log.select(\"gen\")\n",
        "aptitud_minima = log.select(\"min\")  # Obtener la aptitud mínima registrada\n",
        "aptitud_promedio = log.select(\"avg\")  # Obtener la aptitud promedio registrada"
      ],
      "metadata": {
        "id": "Mbdomzz8VP9E"
      },
      "execution_count": 334,
      "outputs": []
    },
    {
      "cell_type": "code",
      "source": [
        "# Crear la grafica de la evolucion de la aptitud\n",
        "plt.figure(figsize=(10, 6))\n",
        "plt.plot(generaciones, aptitud_minima, label=\"Aptitud mínima\", color=\"red\")\n",
        "plt.plot(generaciones, aptitud_promedio, label=\"Aptitud promedio\", color=\"blue\")\n",
        "plt.xlabel(\"Generaciones\")\n",
        "plt.ylabel(\"Aptitud\")\n",
        "plt.title(\"Evolución de la aptitud durante el algoritmo genético\")\n",
        "plt.legend(loc=\"best\")\n",
        "plt.grid()\n",
        "plt.show()"
      ],
      "metadata": {
        "colab": {
          "base_uri": "https://localhost:8080/",
          "height": 565
        },
        "id": "ryK6eRUhVg3p",
        "outputId": "22cd93df-f357-4a6b-84f9-40b69139b6bb"
      },
      "execution_count": 335,
      "outputs": [
        {
          "output_type": "display_data",
          "data": {
            "text/plain": [
              "<Figure size 1000x600 with 1 Axes>"
            ],
            "image/png": "[encoded data removed]"
          },
          "metadata": {}
        }
      ]
    },
    {
      "cell_type": "markdown",
      "source": [
        "**Algoritmo Recocido Simulado**\n",
        "\n",
        "El Algoritmo de Recocido Simulado (SA) está basado en el proceso físico de recocido, donde un material se calienta y luego se enfría gradualmente para minimizar su energía y alcanzar un estado óptimo. En optimización, se utiliza una estrategia similar para escapar de óptimos locales."
      ],
      "metadata": {
        "id": "g0BunZedhK_M"
      }
    },
    {
      "cell_type": "code",
      "source": [
        "# Funcion de evaluacion\n",
        "def evaluar_individuo_rc(individuo):\n",
        "  cantidad_caña_total = sum(individuo[i] * cantidades_caña[i] for i in range(num_parcelas))\n",
        "  tiempo_total = sum(individuo[i] * tiempos_cosecha[i] for i in range(num_parcelas))\n",
        "\n",
        "  penalizacion = 0 # Inicializamos la penalizacion en 0\n",
        "\n",
        "  # Penalizacion por exceder el tiempo disponible\n",
        "  if tiempo_total > capacidad_total_trabajo:\n",
        "    penalizacion += (tiempo_total - capacidad_total_trabajo) * 100\n",
        "\n",
        "  # Penalizacion por exceder la capacidad del vehiculo\n",
        "  if cantidad_caña_total > capacidad_vehiculo:\n",
        "    penalizacion += (cantidad_caña_total - capacidad_vehiculo) * 100\n",
        "\n",
        "  # la aptitud sera la cantidad de cana recolectada menos la penalizacion\n",
        "  return max(0, cantidad_caña_total - penalizacion)\n"
      ],
      "metadata": {
        "id": "ORB-tffdhRv-"
      },
      "execution_count": 336,
      "outputs": []
    },
    {
      "cell_type": "code",
      "source": [
        "# Funcion para crear una solucion inicial (estado inicial)\n",
        "def crear_individuo_inicial():\n",
        "  return [random.randint(0,1) for _ in range(num_parcelas)]"
      ],
      "metadata": {
        "id": "JWTUPbw9jgiK"
      },
      "execution_count": 337,
      "outputs": []
    },
    {
      "cell_type": "code",
      "source": [
        "# Funcion para mutar (modificar) un individuo (solucion)\n",
        "def mutar_individuo(individuo):\n",
        "  nuevo_individuo = individuo[:]\n",
        "  idx = random.randint(0, num_parcelas - 1)\n",
        "  nuevo_individuo[idx] = 1 - nuevo_individuo[idx] # Cambia de 0 a 1 o de 1 a 0\n",
        "  return nuevo_individuo"
      ],
      "metadata": {
        "id": "aqg4m60Aj-Ww"
      },
      "execution_count": 338,
      "outputs": []
    },
    {
      "cell_type": "code",
      "source": [
        "# funcion de enfriamiento (disminuy la temperatura gradualmente)\n",
        "def enfriamiento(T, alpha):\n",
        "  return T * alpha"
      ],
      "metadata": {
        "id": "k_9aydH5lAW3"
      },
      "execution_count": 339,
      "outputs": []
    },
    {
      "cell_type": "code",
      "source": [
        "# Algoritno de Recocido Simulado\n",
        "def recocido_simulado(temperatura_inicial, alpha, iteraciones):\n",
        "  # Estado inicial\n",
        "  estado_actual = crear_individuo_inicial()\n",
        "  aptitud_actual = evaluar_individuo_rc(estado_actual)\n",
        "\n",
        "  mejor_estado = estado_actual\n",
        "  mejor_aptitud = aptitud_actual\n",
        "\n",
        "  # Listas para graficar el progreso del fitness\n",
        "  historico_aptitud = [aptitud_actual]\n",
        "\n",
        "  temperatura =  temperatura_inicial\n",
        "\n",
        "  for i in range(iteraciones):\n",
        "    # Mutar el estado actual para generar un nuevo estado\n",
        "    nuevo_estado = mutar_individuo(estado_actual)\n",
        "    aptitud_nueva = evaluar_individuo_rc(nuevo_estado)\n",
        "\n",
        "    # diferencia de aptitud entre el estado actual y el nuevo\n",
        "    delta_aptitud = aptitud_nueva - aptitud_actual\n",
        "\n",
        "    # Decidir si aceptamos la nueva solucion\n",
        "    if delta_aptitud > 0 or random.uniform(0,1) < math.exp(delta_aptitud / temperatura):\n",
        "      estado_actual = nuevo_estado\n",
        "      aptitud_actual = aptitud_nueva\n",
        "\n",
        "    # Actualizamos el mejor estado si es necesario\n",
        "    if aptitud_actual > mejor_aptitud:\n",
        "      mejor_estado = estado_actual\n",
        "      mejor_aptitud = aptitud_actual\n",
        "\n",
        "    # Disminuir la temperatura\n",
        "    temperatura = enfriamiento(temperatura, alpha)\n",
        "\n",
        "    # Guardar la aptitud en el historial\n",
        "    historico_aptitud.append(mejor_aptitud)\n",
        "\n",
        "  return mejor_estado, mejor_aptitud, historico_aptitud"
      ],
      "metadata": {
        "id": "VjxJRLZ-lPVG"
      },
      "execution_count": 340,
      "outputs": []
    },
    {
      "cell_type": "code",
      "source": [
        "# Parametros para el recocido simulado\n",
        "temperatura_inicial = 1000\n",
        "alpha = 0.95  # Tasa de enfriamiento\n",
        "iteraciiones = 100  # Numero de iteraciones"
      ],
      "metadata": {
        "id": "1CI-sHf_qJZ4"
      },
      "execution_count": 341,
      "outputs": []
    },
    {
      "cell_type": "code",
      "source": [
        "# Ejecutar el algoritmo de recocido simulado\n",
        "mejor_estado, mejor_aptitud, historico_aptitud = recocido_simulado(temperatura_inicial, alpha, iteraciiones)"
      ],
      "metadata": {
        "id": "Gb-ZLaaUqh1O"
      },
      "execution_count": 342,
      "outputs": []
    },
    {
      "cell_type": "code",
      "source": [
        "# Graficar la evolucion del fitness\n",
        "plt.figure(figsize=(10, 6))\n",
        "plt.plot(historico_aptitud, label=\"Mejor aptitud\")\n",
        "plt.xlabel(\"Iteraciones\")\n",
        "plt.ylabel(\"Aptitud\")\n",
        "plt.title(\"Evolución de la aptitud durante el recocido simulado\")\n",
        "plt.legend(loc=\"best\")\n",
        "plt.grid()\n",
        "plt.show()\n",
        "\n",
        "print(\"Mejor aptitud encontrada:\", mejor_aptitud)"
      ],
      "metadata": {
        "colab": {
          "base_uri": "https://localhost:8080/",
          "height": 582
        },
        "id": "4B_lPNgirWZJ",
        "outputId": "0891dd92-5d84-412b-d509-aed8042f41fb"
      },
      "execution_count": 343,
      "outputs": [
        {
          "output_type": "display_data",
          "data": {
            "text/plain": [
              "<Figure size 1000x600 with 1 Axes>"
            ],
            "image/png": "[encoded data removed]"
          },
          "metadata": {}
        },
        {
          "output_type": "stream",
          "name": "stdout",
          "text": [
            "Mejor aptitud encontrada: 1110\n"
          ]
        }
      ]
    },
    {
      "cell_type": "markdown",
      "source": [
        "**Algoritmo de Colonia de Hormigas (ACO)**\n",
        "\n",
        "El ACO está inspirado en el comportamiento de las hormigas cuando buscan la mejor ruta hacia una fuente de alimento. Las hormigas dejan un rastro de feromonas, y otras hormigas tienden a seguir caminos con más feromonas, reforzando ese camino si es efectivo.\n",
        "\n",
        "En este caso, el objetivo es maximizar la cantidad de caña recolectada respetando las restricciones, usando un enfoque donde las hormigas construyen soluciones (selección de parcelas), y los caminos buenos (parcelas seleccionadas eficientemente) reciben un refuerzo de feromonas."
      ],
      "metadata": {
        "id": "24lzw57L0Rp9"
      }
    },
    {
      "cell_type": "code",
      "source": [
        "# Parametros del ACO\n",
        "num_hormigas = 50\n",
        "num_iteraciones = 100\n",
        "evaporacion = 0.1\n",
        "influencia_feromonas = 1.0\n",
        "influencia_visibilidad = 2.0\n",
        "feromonas_inicial = 1.0"
      ],
      "metadata": {
        "id": "ei-b0zJ10fH-"
      },
      "execution_count": 344,
      "outputs": []
    },
    {
      "cell_type": "code",
      "source": [
        "# Funcion de valuacion\n",
        "def evaluar_individuo_ch(individuo):\n",
        "    cantidad_caña_total = sum(individuo[i] * cantidades_caña[i] for i in range(num_parcelas))\n",
        "    tiempo_total = sum(individuo[i] * tiempos_cosecha[i] for i in range(num_parcelas))\n",
        "\n",
        "    penalizacion = 0  # Inicializamos la penalización en 0\n",
        "\n",
        "    # Penalización por exceder el tiempo disponible, reducir penalización\n",
        "    if tiempo_total > capacidad_total_trabajo:\n",
        "        penalizacion += (tiempo_total - capacidad_total_trabajo) * 10  # Reducir el factor de penalización\n",
        "        # print(f\"Penalización por tiempo: {penalizacion}\")\n",
        "\n",
        "    # Penalización por exceder la capacidad del vehículo, reducir penalización\n",
        "    if cantidad_caña_total > capacidad_vehiculo:\n",
        "        penalizacion += (cantidad_caña_total - capacidad_vehiculo) * 10  # Reducir el factor de penalización\n",
        "        # print(f\"Penalización por capacidad: {penalizacion}\")\n",
        "\n",
        "    # La aptitud será la cantidad de caña recolectada menos la penalización\n",
        "    aptitud_final = max(0, cantidad_caña_total - penalizacion)\n",
        "    # print(f\"Aptitud del individuo: {aptitud_final}\")\n",
        "    return aptitud_final"
      ],
      "metadata": {
        "id": "GF2n10Mh03tB"
      },
      "execution_count": 345,
      "outputs": []
    },
    {
      "cell_type": "code",
      "source": [
        "# Inicializacion de feromonas\n",
        "feromonas = np.full((num_parcelas,), feromonas_inicial)"
      ],
      "metadata": {
        "id": "AulUAp-52hsT"
      },
      "execution_count": 346,
      "outputs": []
    },
    {
      "cell_type": "code",
      "source": [
        "# Función para seleccionar una parcela con probabilidades basadas en las feromonas y la cantidad de caña\n",
        "def seleccionar_parcela(feromonas, cantidades_caña, influencia_feromonas, influencia_visibilidad):\n",
        "    probabilidades = []\n",
        "    for i in range(num_parcelas):\n",
        "        # Aumentamos el efecto de la visibilidad (cantidades de caña) para explorar más soluciones diversas\n",
        "        prob = (feromonas[i] ** influencia_feromonas) * (cantidades_caña[i] ** influencia_visibilidad)\n",
        "        probabilidades.append(prob)\n",
        "\n",
        "    suma_probabilidades = np.sum(probabilidades)\n",
        "    if suma_probabilidades == 0:\n",
        "        return random.randint(0, num_parcelas - 1)  # Seleccionar aleatoriamente si todas las probabilidades son cero\n",
        "\n",
        "    probabilidades = probabilidades / suma_probabilidades  # Normalizar las probabilidades\n",
        "    return np.random.choice(range(num_parcelas), p=probabilidades)"
      ],
      "metadata": {
        "id": "wznurf9J3ys9"
      },
      "execution_count": 347,
      "outputs": []
    },
    {
      "cell_type": "code",
      "source": [
        "# Función para construir una solución (selección de parcelas)\n",
        "def construir_solucion():\n",
        "    solucion = [0] * num_parcelas\n",
        "    for _ in range(num_parcelas):\n",
        "        parcela_seleccionada = seleccionar_parcela(feromonas, cantidades_caña, influencia_feromonas, influencia_visibilidad)\n",
        "        solucion[parcela_seleccionada] = 1\n",
        "    return solucion"
      ],
      "metadata": {
        "id": "IH59xeEG64si"
      },
      "execution_count": 348,
      "outputs": []
    },
    {
      "cell_type": "code",
      "source": [
        "# Refuerzo de feromonas en las mejores soluciones\n",
        "def colonia_de_hormigas(num_hormigas, num_iteraciones, evaporacion):\n",
        "    feromonas = np.full((num_parcelas,), feromonas_inicial)\n",
        "\n",
        "    mejor_solucion = None\n",
        "    mejor_aptitud = 0\n",
        "    historico_aptitud = []\n",
        "\n",
        "    for iteracion in range(num_iteraciones):\n",
        "        soluciones_hormigas = []\n",
        "        aptitudes_hormigas = []\n",
        "\n",
        "        # Cada hormiga construye una solución\n",
        "        for _ in range(num_hormigas):\n",
        "            solucion = construir_solucion()\n",
        "            aptitud = evaluar_individuo_ch(solucion)\n",
        "            soluciones_hormigas.append(solucion)\n",
        "            aptitudes_hormigas.append(aptitud)\n",
        "\n",
        "        # Actualizar la mejor solución encontrada\n",
        "        aptitud_max = max(aptitudes_hormigas)\n",
        "        if aptitud_max > mejor_aptitud:\n",
        "            mejor_aptitud = aptitud_max\n",
        "            mejor_solucion = soluciones_hormigas[aptitudes_hormigas.index(aptitud_max)]\n",
        "\n",
        "        # Evaporar feromonas\n",
        "        feromonas *= (1 - evaporacion)\n",
        "\n",
        "        # Reforzar feromonas en las mejores soluciones\n",
        "        for i in range(num_parcelas):\n",
        "            for solucion, aptitud in zip(soluciones_hormigas, aptitudes_hormigas):\n",
        "                if solucion[i] == 1 and aptitud > 0:  # Si la parcela fue seleccionada y la solución fue buena\n",
        "                    feromonas[i] += aptitud / mejor_aptitud  # Normalizamos el refuerzo de feromonas\n",
        "\n",
        "        historico_aptitud.append(mejor_aptitud)\n",
        "\n",
        "    return mejor_solucion, mejor_aptitud, historico_aptitud\n"
      ],
      "metadata": {
        "id": "QbYgPyR777xl"
      },
      "execution_count": 349,
      "outputs": []
    },
    {
      "cell_type": "code",
      "source": [
        "# Ejecutar el algoritmo de colonia de hormigas\n",
        "mejor_solucion, mejor_aptitud, historico_aptitud = colonia_de_hormigas(num_hormigas, num_iteraciones, evaporacion)"
      ],
      "metadata": {
        "id": "q7T9PVAbB4sW"
      },
      "execution_count": 350,
      "outputs": []
    },
    {
      "cell_type": "code",
      "source": [
        "# Graficar la evolución del fitness\n",
        "plt.figure(figsize=(10, 6))\n",
        "plt.plot(historico_aptitud, label=\"Mejor aptitud\")\n",
        "plt.xlabel(\"Iteraciones\")\n",
        "plt.ylabel(\"Aptitud\")\n",
        "plt.title(\"Evolución de la aptitud durante la colonia de hormigas\")\n",
        "plt.legend(loc=\"best\")\n",
        "plt.grid()\n",
        "plt.show()\n",
        "\n",
        "print(\"Mejor aptitud encontrada:\", mejor_aptitud)"
      ],
      "metadata": {
        "colab": {
          "base_uri": "https://localhost:8080/",
          "height": 582
        },
        "id": "YDrsg7L-DjXq",
        "outputId": "0efc84bc-5c6b-4490-d997-04071b9d286d"
      },
      "execution_count": 351,
      "outputs": [
        {
          "output_type": "display_data",
          "data": {
            "text/plain": [
              "<Figure size 1000x600 with 1 Axes>"
            ],
            "image/png": "[encoded data removed]"
          },
          "metadata": {}
        },
        {
          "output_type": "stream",
          "name": "stdout",
          "text": [
            "Mejor aptitud encontrada: 0\n"
          ]
        }
      ]
    },
    {
      "cell_type": "markdown",
      "source": [
        "**Verificación y Análisis de Resultados**\n",
        "\n",
        "utilizando los tres algoritmos ya implementados: Algoritmo Genético (GA), Recocido Simulado (SA), y Colonia de Hormigas (ACO). El objetivo es comparar los algoritmos en términos de cantidad de caña recolectada (aptitud) y tiempo de ejecución."
      ],
      "metadata": {
        "id": "s4_ngFaQNEs_"
      }
    },
    {
      "cell_type": "code",
      "source": [
        "import time"
      ],
      "metadata": {
        "id": "9TrU62DYNLk-"
      },
      "execution_count": 352,
      "outputs": []
    },
    {
      "cell_type": "code",
      "source": [
        "# Ejecutar y medir el tiempo del Algoritmo Genético (GA)\n",
        "start_time = time.time()\n",
        "poblacion, log = algorithms.eaSimple(poblacion, toolbox, cxpb=probabilidad_cruce, mutpb=probabilidad_mutacion,\n",
        "                                      ngen=num_generaciones, stats=stats, halloffame=hall_of_fame, verbose=False)\n",
        "mejor_individuo = tools.selBest(poblacion, k=1)[0]\n",
        "mejor_aptitud_ga = evaluar_individuo(mejor_individuo)[0]\n",
        "tiempo_ga = time.time() - start_time\n",
        "print(f\"Algoritmo Genético - Mejor aptitud: {mejor_aptitud_ga}, Tiempo de ejecución: {tiempo_ga:.4f} segundos\")"
      ],
      "metadata": {
        "colab": {
          "base_uri": "https://localhost:8080/"
        },
        "id": "wUa_o0J6NPAr",
        "outputId": "69158bed-01c0-41ce-b1fd-3797b0af2e13"
      },
      "execution_count": 353,
      "outputs": [
        {
          "output_type": "stream",
          "name": "stdout",
          "text": [
            "Algoritmo Genético - Mejor aptitud: 1355, Tiempo de ejecución: 0.6573 segundos\n"
          ]
        }
      ]
    },
    {
      "cell_type": "code",
      "source": [
        "# Ejecutar y medir el tiempo del Recocido Simulado (SA)\n",
        "start_time = time.time()\n",
        "mejor_estado_sa, mejor_aptitud_sa, historico_aptitud_sa = recocido_simulado(temperatura_inicial, alpha, iteraciiones)\n",
        "tiempo_sa = time.time() - start_time\n",
        "print(f\"Recocido Simulado - Mejor aptitud: {mejor_aptitud_sa}, Tiempo de ejecución: {tiempo_sa:.4f} segundos\")"
      ],
      "metadata": {
        "colab": {
          "base_uri": "https://localhost:8080/"
        },
        "id": "-irc3nrHNWCr",
        "outputId": "713e3812-2545-412b-d3ad-ca269ec2724b"
      },
      "execution_count": 354,
      "outputs": [
        {
          "output_type": "stream",
          "name": "stdout",
          "text": [
            "Recocido Simulado - Mejor aptitud: 1203, Tiempo de ejecución: 0.0032 segundos\n"
          ]
        }
      ]
    },
    {
      "cell_type": "code",
      "source": [
        "# Ejecutar y medir el tiempo del Algoritmo de Colonia de Hormigas (ACO)\n",
        "start_time = time.time()\n",
        "mejor_solucion_aco, mejor_aptitud_aco, historico_aptitud_aco = colonia_de_hormigas(num_hormigas, num_iteraciones, evaporacion)\n",
        "tiempo_aco = time.time() - start_time\n",
        "print(f\"Colonia de Hormigas - Mejor aptitud: {mejor_aptitud_aco}, Tiempo de ejecución: {tiempo_aco:.4f} segundos\")"
      ],
      "metadata": {
        "colab": {
          "base_uri": "https://localhost:8080/"
        },
        "id": "FSuHOdMINc8x",
        "outputId": "b7448ec4-9757-486f-d793-b14ff0c8bc8a"
      },
      "execution_count": 355,
      "outputs": [
        {
          "output_type": "stream",
          "name": "stdout",
          "text": [
            "Colonia de Hormigas - Mejor aptitud: 0, Tiempo de ejecución: 16.9233 segundos\n"
          ]
        }
      ]
    },
    {
      "cell_type": "code",
      "source": [
        "# Graficar la evolución del fitness para los tres algoritmos\n",
        "\n",
        "plt.figure(figsize=(10, 6))\n",
        "\n",
        "# Algoritmo Genético\n",
        "generaciones_ga = log.select(\"gen\")\n",
        "aptitud_promedio_ga = log.select(\"avg\")\n",
        "plt.plot(generaciones_ga, aptitud_promedio_ga, label=\"GA - Aptitud Promedio\", color=\"blue\")\n",
        "\n",
        "# Recocido Simulado\n",
        "plt.plot(range(len(historico_aptitud_sa)), historico_aptitud_sa, label=\"SA - Mejor Aptitud\", color=\"green\")\n",
        "\n",
        "# Colonia de Hormigas\n",
        "plt.plot(range(len(historico_aptitud_aco)), historico_aptitud_aco, label=\"ACO - Mejor Aptitud\", color=\"red\")\n",
        "\n",
        "plt.xlabel(\"Iteraciones / Generaciones\")\n",
        "plt.ylabel(\"Aptitud\")\n",
        "plt.title(\"Comparación de la evolución del fitness entre GA, SA y ACO\")\n",
        "plt.legend(loc=\"best\")\n",
        "plt.grid(True)\n",
        "plt.show()\n"
      ],
      "metadata": {
        "colab": {
          "base_uri": "https://localhost:8080/",
          "height": 565
        },
        "id": "RNdMV-RtNpdU",
        "outputId": "c7ddd7d1-c1e5-44f4-c415-5360c680f78c"
      },
      "execution_count": 356,
      "outputs": [
        {
          "output_type": "display_data",
          "data": {
            "text/plain": [
              "<Figure size 1000x600 with 1 Axes>"
            ],
            "image/png": "[encoded data removed]"
          },
          "metadata": {}
        }
      ]
    },
    {
      "cell_type": "code",
      "source": [
        "# Resumen comparativo\n",
        "print(\"\\nResumen Comparativo:\")\n",
        "print(f\"Algoritmo Genético (GA): Mejor aptitud = {mejor_aptitud_ga}, Tiempo de ejecución = {tiempo_ga:.4f} segundos\")\n",
        "print(f\"Recocido Simulado (SA): Mejor aptitud = {mejor_aptitud_sa}, Tiempo de ejecución = {tiempo_sa:.4f} segundos\")\n",
        "print(f\"Colonia de Hormigas (ACO): Mejor aptitud = {mejor_aptitud_aco}, Tiempo de ejecución = {tiempo_aco:.4f} segundos\")\n"
      ],
      "metadata": {
        "colab": {
          "base_uri": "https://localhost:8080/"
        },
        "id": "BiukbD46N1N2",
        "outputId": "ac882708-d774-4494-d373-dc6ec6c33dce"
      },
      "execution_count": 357,
      "outputs": [
        {
          "output_type": "stream",
          "name": "stdout",
          "text": [
            "\n",
            "Resumen Comparativo:\n",
            "Algoritmo Genético (GA): Mejor aptitud = 1355, Tiempo de ejecución = 0.6573 segundos\n",
            "Recocido Simulado (SA): Mejor aptitud = 1203, Tiempo de ejecución = 0.0032 segundos\n",
            "Colonia de Hormigas (ACO): Mejor aptitud = 0, Tiempo de ejecución = 16.9233 segundos\n"
          ]
        }
      ]
    }
  ]
}